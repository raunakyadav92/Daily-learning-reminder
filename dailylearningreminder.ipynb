{
  "nbformat": 4,
  "nbformat_minor": 0,
  "metadata": {
    "colab": {
      "provenance": [],
      "authorship_tag": "ABX9TyMPAK8VOzDf3ZLKiaGq132Z",
      "include_colab_link": true
    },
    "kernelspec": {
      "name": "python3",
      "display_name": "Python 3"
    },
    "language_info": {
      "name": "python"
    }
  },
  "cells": [
    {
      "cell_type": "markdown",
      "metadata": {
        "id": "view-in-github",
        "colab_type": "text"
      },
      "source": [
        "<a href=\"https://colab.research.google.com/github/raunakyadav92/Daily-learning-reminder/blob/main/dailylearningreminder.ipynb\" target=\"_parent\"><img src=\"https://colab.research.google.com/assets/colab-badge.svg\" alt=\"Open In Colab\"/></a>"
      ]
    },
    {
      "cell_type": "code",
      "execution_count": null,
      "metadata": {
        "id": "qgAlGqV0807b"
      },
      "outputs": [],
      "source": [
        "import random\n",
        "import datetime\n",
        "\n",
        "quotes = [\n",
        "    \"Keep going, you're getting better every day!\",\n",
        "    \"Small steps every day lead to big achievements.\",\n",
        "    \"Learning never exhausts the mind — Leonardo da Vinci\",\n",
        "    \"One hour per day of study will put you at the top.\",\n",
        "    \"Be stronger than your excuses.\"\n",
        "]\n",
        "\n",
        "questions = [\n",
        "    {\"q\": \"What is the shortcut to save a file in most apps?\", \"a\": \"Ctrl + S\"},\n",
        "    {\"q\": \"What is 5 multiplied by 6?\", \"a\": \"30\"},\n",
        "    {\"q\": \"Who is the father of Python?\", \"a\": \"Guido van Rossum\"},\n",
        "    {\"q\": \"What does CPU stand for?\", \"a\": \"Central Processing Unit\"},\n",
        "]\n",
        "\n",
        "def daily_reminder():\n",
        "    print(\"\\n=== Welcome to LearnLoop Daily Reminder ===\")\n",
        "    print(f\"Date: {datetime.date.today()}\")\n",
        "\n",
        "    print(\"\\n💡 Today's Quote:\")\n",
        "    print(random.choice(quotes))\n",
        "\n",
        "    q = random.choice(questions)\n",
        "    print(f\"\\n📝 Quick Question: {q['q']}\")\n",
        "    user_answer = input(\"Your Answer: \")\n",
        "\n",
        "    if user_answer.strip().lower() == q[\"a\"].lower():\n",
        "        print(\"✅ Correct! You're on track.\")\n",
        "    else:\n",
        "        print(f\"❌ Oops! Correct Answer: {q['a']}\")\n",
        "\n",
        "    print(\"\\n📖 Keep learning every day with LearnLoop!\")\n",
        "\n",
        "if __name__ == \"__main__\":\n",
        "    daily_reminder()\n"
      ]
    }
  ]
}